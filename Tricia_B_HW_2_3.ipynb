{
  "nbformat": 4,
  "nbformat_minor": 0,
  "metadata": {
    "colab": {
      "provenance": [],
      "authorship_tag": "ABX9TyPCP/pT8kZqd/cgHA1ZvdVO",
      "include_colab_link": true
    },
    "kernelspec": {
      "name": "python3",
      "display_name": "Python 3"
    },
    "language_info": {
      "name": "python"
    }
  },
  "cells": [
    {
      "cell_type": "markdown",
      "metadata": {
        "id": "view-in-github",
        "colab_type": "text"
      },
      "source": [
        "<a href=\"https://colab.research.google.com/github/TriciaButler/MAT-494-Data-Science/blob/main/Tricia_B_HW_2_3.ipynb\" target=\"_parent\"><img src=\"https://colab.research.google.com/assets/colab-badge.svg\" alt=\"Open In Colab\"/></a>"
      ]
    },
    {
      "cell_type": "markdown",
      "source": [
        "# Tricia Butler HW 2.3"
      ],
      "metadata": {
        "id": "OT3z1UWokmky"
      }
    },
    {
      "cell_type": "code",
      "source": [],
      "metadata": {
        "id": "EVE-gWvbksze"
      },
      "execution_count": null,
      "outputs": []
    }
  ]
}