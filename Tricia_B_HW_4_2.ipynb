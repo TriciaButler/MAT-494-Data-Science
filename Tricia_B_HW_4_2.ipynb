{
  "nbformat": 4,
  "nbformat_minor": 0,
  "metadata": {
    "colab": {
      "provenance": [],
      "authorship_tag": "ABX9TyPDlW+z+BXSM5NfS8t+Zkxo",
      "include_colab_link": true
    },
    "kernelspec": {
      "name": "python3",
      "display_name": "Python 3"
    },
    "language_info": {
      "name": "python"
    }
  },
  "cells": [
    {
      "cell_type": "markdown",
      "metadata": {
        "id": "view-in-github",
        "colab_type": "text"
      },
      "source": [
        "<a href=\"https://colab.research.google.com/github/TriciaButler/MAT-494-Data-Science/blob/main/Tricia_B_HW_4_2.ipynb\" target=\"_parent\"><img src=\"https://colab.research.google.com/assets/colab-badge.svg\" alt=\"Open In Colab\"/></a>"
      ]
    },
    {
      "cell_type": "markdown",
      "source": [
        "# Tricia Butler HW 4.2\n",
        "*   Incidence Matrix\n",
        "*   Rayleigh Quotient \n"
      ],
      "metadata": {
        "id": "I50wnZV0CK-_"
      }
    },
    {
      "cell_type": "code",
      "source": [
        "# Incidence Matrix\n",
        "import networkx as nx\n",
        "\n",
        "nodes = [1, 2, 3, 4, 5, 6]\n",
        "edges = [[1, 2], [1, 3], [1, 5], [2, 3], [2, 4], [3, 4], [3, 5], [4, 6], [5, 6]]\n",
        "\n",
        "G = nx.DiGraph()\n",
        "G.add_nodes_from(nodes)\n",
        "G.add_edges_from(edges)\n",
        "\n",
        "incidence_matrix = -nx.incidence_matrix(G, oriented=True) \n",
        "print(incidence_matrix.toarray())"
      ],
      "metadata": {
        "colab": {
          "base_uri": "https://localhost:8080/"
        },
        "id": "qTdEbTrsHcTZ",
        "outputId": "86cede11-ecd0-47fe-ea4b-a51567a41f1d"
      },
      "execution_count": 11,
      "outputs": [
        {
          "output_type": "stream",
          "name": "stdout",
          "text": [
            "[[ 1.  1.  1.  0.  0.  0.  0.  0.  0.]\n",
            " [-1.  0.  0.  1.  1.  0.  0.  0.  0.]\n",
            " [ 0. -1.  0. -1.  0.  1.  1.  0.  0.]\n",
            " [ 0.  0.  0.  0. -1. -1.  0.  1.  0.]\n",
            " [ 0.  0. -1.  0.  0.  0. -1.  0.  1.]\n",
            " [ 0.  0.  0.  0.  0.  0.  0. -1. -1.]]\n"
          ]
        }
      ]
    },
    {
      "cell_type": "code",
      "source": [
        "# Rayleigh Quotient \n",
        "import numpy as np\n",
        "import matplotlib.pyplot as plt\n",
        "np.random.seed(0)\n",
        "\n",
        "def rayleigh_quotient(x,A):\n",
        "    return(x.T.dot(A).dot(x)/x.T.dot(x))\n",
        "\n",
        "A = np.random.randn(2,2)\n",
        "A = A.T.dot(A)\n",
        "\n",
        "l,X = np.linalg.eig(A)\n",
        "\n",
        "print(A.dot(X))\n",
        "print(X.dot(np.eye(2)*l))\n",
        "\n",
        "rayleigh_quotient(X[:,1],A)"
      ],
      "metadata": {
        "colab": {
          "base_uri": "https://localhost:8080/"
        },
        "id": "PrA6XnIkHo7f",
        "outputId": "0f1742f9-ca25-4fce-f32e-a043626684ce"
      },
      "execution_count": 12,
      "outputs": [
        {
          "output_type": "stream",
          "name": "stdout",
          "text": [
            "[[-1.29020049 -4.82739792]\n",
            " [ 1.06629199 -5.84109345]]\n",
            "[[-1.29020049 -4.82739792]\n",
            " [ 1.06629199 -5.84109345]]\n"
          ]
        },
        {
          "output_type": "execute_result",
          "data": {
            "text/plain": [
              "7.577739988681693"
            ]
          },
          "metadata": {},
          "execution_count": 12
        }
      ]
    }
  ]
}