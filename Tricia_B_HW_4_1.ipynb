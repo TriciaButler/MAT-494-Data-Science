{
  "nbformat": 4,
  "nbformat_minor": 0,
  "metadata": {
    "colab": {
      "provenance": [],
      "authorship_tag": "ABX9TyNaCJ/YhNqeFTXh5blP3jt/",
      "include_colab_link": true
    },
    "kernelspec": {
      "name": "python3",
      "display_name": "Python 3"
    },
    "language_info": {
      "name": "python"
    }
  },
  "cells": [
    {
      "cell_type": "markdown",
      "metadata": {
        "id": "view-in-github",
        "colab_type": "text"
      },
      "source": [
        "<a href=\"https://colab.research.google.com/github/TriciaButler/MAT-494-Data-Science/blob/main/Tricia_B_HW_4_1.ipynb\" target=\"_parent\"><img src=\"https://colab.research.google.com/assets/colab-badge.svg\" alt=\"Open In Colab\"/></a>"
      ]
    },
    {
      "cell_type": "markdown",
      "source": [
        "# Tricia Butler HW 4.1\n",
        "*   Laplacian Matrix\n"
      ],
      "metadata": {
        "id": "4ZyxNit2Ku8I"
      }
    },
    {
      "cell_type": "code",
      "source": [
        "import networkx as nx\n",
        "import numpy as np\n",
        "\n",
        "G = nx.random_regular_graph(3, 6)\n",
        "nx.draw(G)"
      ],
      "metadata": {
        "colab": {
          "base_uri": "https://localhost:8080/",
          "height": 319
        },
        "id": "-KQugMwiLbfW",
        "outputId": "4cc18dd5-c4b5-4ff6-9784-cb0292e4e8de"
      },
      "execution_count": 17,
      "outputs": [
        {
          "output_type": "display_data",
          "data": {
            "text/plain": [
              "<Figure size 432x288 with 1 Axes>"
            ],
            "image/png": "[encoded data removed]"
          },
          "metadata": {}
        }
      ]
    },
    {
      "cell_type": "code",
      "source": [
        "A = nx.adjacency_matrix(G).toarray()\n",
        "print(A)\n",
        "D = np.diag(np.ones(6)*3)\n",
        "print(D)\n",
        "L = D - A\n",
        "print(L)\n"
      ],
      "metadata": {
        "colab": {
          "base_uri": "https://localhost:8080/"
        },
        "id": "SqDqn2JHNJnj",
        "outputId": "7b8fbdd2-25d2-4a67-e700-9fe6e64dfb1a"
      },
      "execution_count": 12,
      "outputs": [
        {
          "output_type": "stream",
          "name": "stdout",
          "text": [
            "[[0 1 1 1 0 0]\n",
            " [1 0 0 0 1 1]\n",
            " [1 0 0 1 0 1]\n",
            " [1 0 1 0 1 0]\n",
            " [0 1 0 1 0 1]\n",
            " [0 1 1 0 1 0]]\n",
            "[[3. 0. 0. 0. 0. 0.]\n",
            " [0. 3. 0. 0. 0. 0.]\n",
            " [0. 0. 3. 0. 0. 0.]\n",
            " [0. 0. 0. 3. 0. 0.]\n",
            " [0. 0. 0. 0. 3. 0.]\n",
            " [0. 0. 0. 0. 0. 3.]]\n",
            "[[ 3. -1. -1. -1.  0.  0.]\n",
            " [-1.  3.  0.  0. -1. -1.]\n",
            " [-1.  0.  3. -1.  0. -1.]\n",
            " [-1.  0. -1.  3. -1.  0.]\n",
            " [ 0. -1.  0. -1.  3. -1.]\n",
            " [ 0. -1. -1.  0. -1.  3.]]\n"
          ]
        }
      ]
    },
    {
      "cell_type": "code",
      "source": [
        "nx.laplacian_matrix(G).toarray()"
      ],
      "metadata": {
        "colab": {
          "base_uri": "https://localhost:8080/"
        },
        "id": "sXwBUtoqOBjr",
        "outputId": "c8339cb3-60c9-4863-e9a7-c2085549150e"
      },
      "execution_count": 13,
      "outputs": [
        {
          "output_type": "execute_result",
          "data": {
            "text/plain": [
              "array([[ 3, -1, -1, -1,  0,  0],\n",
              "       [-1,  3,  0,  0, -1, -1],\n",
              "       [-1,  0,  3, -1,  0, -1],\n",
              "       [-1,  0, -1,  3, -1,  0],\n",
              "       [ 0, -1,  0, -1,  3, -1],\n",
              "       [ 0, -1, -1,  0, -1,  3]])"
            ]
          },
          "metadata": {},
          "execution_count": 13
        }
      ]
    },
    {
      "cell_type": "code",
      "source": [
        "np.array_equal(nx.laplacian_matrix(G).toarray(), D - A)"
      ],
      "metadata": {
        "colab": {
          "base_uri": "https://localhost:8080/"
        },
        "id": "NymJa8O9Oa2I",
        "outputId": "0ac42304-5466-428e-a433-2cbd41126665"
      },
      "execution_count": 14,
      "outputs": [
        {
          "output_type": "execute_result",
          "data": {
            "text/plain": [
              "True"
            ]
          },
          "metadata": {},
          "execution_count": 14
        }
      ]
    }
  ]
}