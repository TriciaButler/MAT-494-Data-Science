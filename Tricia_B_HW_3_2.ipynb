{
  "nbformat": 4,
  "nbformat_minor": 0,
  "metadata": {
    "colab": {
      "provenance": [],
      "authorship_tag": "ABX9TyNmHzHXNx/WJZqw48L8UHak",
      "include_colab_link": true
    },
    "kernelspec": {
      "name": "python3",
      "display_name": "Python 3"
    },
    "language_info": {
      "name": "python"
    }
  },
  "cells": [
    {
      "cell_type": "markdown",
      "metadata": {
        "id": "view-in-github",
        "colab_type": "text"
      },
      "source": [
        "<a href=\"https://colab.research.google.com/github/TriciaButler/MAT-494-Data-Science/blob/main/Tricia_B_HW_3_2.ipynb\" target=\"_parent\"><img src=\"https://colab.research.google.com/assets/colab-badge.svg\" alt=\"Open In Colab\"/></a>"
      ]
    },
    {
      "cell_type": "markdown",
      "source": [
        "# Tricia Butler HW 3.2\n",
        "\n",
        "\n",
        "*   Limits and Continuity\n",
        "*   Composition of Functions\n",
        "*   Derivatives\n",
        "*   Mean-Value Theorem\n",
        "\n",
        "\n"
      ],
      "metadata": {
        "id": "o1ktAW_LuQ81"
      }
    },
    {
      "cell_type": "markdown",
      "source": [
        "# Limits and Continuity"
      ],
      "metadata": {
        "id": "k9fdYW1uYlU-"
      }
    },
    {
      "cell_type": "code",
      "source": [
        "import sympy as sym\n",
        "\n",
        "x = sym.symbols('x')\n",
        "print(sym.limit(.5**x+7, x, sym.oo))\n",
        "# The limit of this exponential function is 7 as x approaches infinity.\n",
        "\n",
        "f = sym.sin(x)\n",
        "print(sym.limit(f, x, sym.oo))\n",
        "# This function does not have a limit, because it oscillates between -1 and 1.\n",
        "\n",
        "x = sym.symbols('x')\n",
        "print(sym.limit((x+2)/(x*x-x-6), x, -2))\n",
        "# The limit of this rational funtion is -1/5.\n",
        "\n",
        "a = -2\n",
        "h = (a+2)/(a*a-a-6)\n",
        "print(h)\n",
        "# This function has a limit but is not continuous at x = -2.\n"
      ],
      "metadata": {
        "colab": {
          "base_uri": "https://localhost:8080/",
          "height": 287
        },
        "id": "6lFkpR6EYuCN",
        "outputId": "a54c1f0e-3ab5-4809-8772-94e8e2801c9a"
      },
      "execution_count": 38,
      "outputs": [
        {
          "output_type": "stream",
          "name": "stdout",
          "text": [
            "7\n",
            "AccumBounds(-1, 1)\n",
            "-1/5\n"
          ]
        },
        {
          "output_type": "error",
          "ename": "ZeroDivisionError",
          "evalue": "ignored",
          "traceback": [
            "\u001b[0;31m---------------------------------------------------------------------------\u001b[0m",
            "\u001b[0;31mZeroDivisionError\u001b[0m                         Traceback (most recent call last)",
            "\u001b[0;32m<ipython-input-38-2ed2b446b933>\u001b[0m in \u001b[0;36m<module>\u001b[0;34m\u001b[0m\n\u001b[1;32m     14\u001b[0m \u001b[0;34m\u001b[0m\u001b[0m\n\u001b[1;32m     15\u001b[0m \u001b[0ma\u001b[0m \u001b[0;34m=\u001b[0m \u001b[0;34m-\u001b[0m\u001b[0;36m2\u001b[0m\u001b[0;34m\u001b[0m\u001b[0;34m\u001b[0m\u001b[0m\n\u001b[0;32m---> 16\u001b[0;31m \u001b[0mh\u001b[0m \u001b[0;34m=\u001b[0m \u001b[0;34m(\u001b[0m\u001b[0ma\u001b[0m\u001b[0;34m+\u001b[0m\u001b[0;36m2\u001b[0m\u001b[0;34m)\u001b[0m\u001b[0;34m/\u001b[0m\u001b[0;34m(\u001b[0m\u001b[0ma\u001b[0m\u001b[0;34m*\u001b[0m\u001b[0ma\u001b[0m\u001b[0;34m-\u001b[0m\u001b[0ma\u001b[0m\u001b[0;34m-\u001b[0m\u001b[0;36m6\u001b[0m\u001b[0;34m)\u001b[0m\u001b[0;34m\u001b[0m\u001b[0;34m\u001b[0m\u001b[0m\n\u001b[0m\u001b[1;32m     17\u001b[0m \u001b[0mprint\u001b[0m\u001b[0;34m(\u001b[0m\u001b[0mh\u001b[0m\u001b[0;34m)\u001b[0m\u001b[0;34m\u001b[0m\u001b[0;34m\u001b[0m\u001b[0m\n\u001b[1;32m     18\u001b[0m \u001b[0;31m# This function has a limit but is not continuous at x = -2.\u001b[0m\u001b[0;34m\u001b[0m\u001b[0;34m\u001b[0m\u001b[0;34m\u001b[0m\u001b[0m\n",
            "\u001b[0;31mZeroDivisionError\u001b[0m: division by zero"
          ]
        }
      ]
    },
    {
      "cell_type": "markdown",
      "source": [
        "# Composition of Functions"
      ],
      "metadata": {
        "id": "H3nepfMEibjZ"
      }
    },
    {
      "cell_type": "code",
      "source": [
        "def f(x):\n",
        "    return x*x+6\n",
        "\n",
        "def g(x):\n",
        "    return 2*x+5\n",
        "\n",
        "print(g(f(5)))"
      ],
      "metadata": {
        "colab": {
          "base_uri": "https://localhost:8080/"
        },
        "id": "ZiL3EX44k6Qq",
        "outputId": "64aedd4d-c033-4d76-b112-ff247e963eb2"
      },
      "execution_count": 37,
      "outputs": [
        {
          "output_type": "stream",
          "name": "stdout",
          "text": [
            "67\n"
          ]
        }
      ]
    },
    {
      "cell_type": "markdown",
      "source": [
        "# Derivatives"
      ],
      "metadata": {
        "id": "K8kHXgIalY6F"
      }
    },
    {
      "cell_type": "code",
      "source": [
        "x = sym.symbols('x')\n",
        "\n",
        "# diff (function, independent variable, number of derivatives)\n",
        "\n",
        "first = sym.diff(4*x*x*x+2*x*x-11*x+6, x) \n",
        "print('1st derivative: ', first) \n",
        "\n",
        "second = sym.diff(4*x*x*x+2*x*x-11*x+6, x, 2) \n",
        "print('2nd derivative: ', second) \n",
        "\n",
        "third = sym.diff(4*x*x*x+2*x*x-11*x+6, x, 3)\n",
        "print('3rd derivative: ', third) \n",
        "\n",
        "fourth = sym.diff(4*x*x*x+2*x*x-11*x+6, x, 4)\n",
        "print('4th derivative: ', fourth) \n",
        "\n",
        "exp4 = sym.diff(sym.sin(x*y), x, 1, y, 1) \n",
        "print('\\n', exp4) "
      ],
      "metadata": {
        "colab": {
          "base_uri": "https://localhost:8080/"
        },
        "id": "MHzkECHtliP_",
        "outputId": "540af480-9bb5-43f6-822f-af6cff2f038d"
      },
      "execution_count": 48,
      "outputs": [
        {
          "output_type": "stream",
          "name": "stdout",
          "text": [
            "1st derivative:  12*x**2 + 4*x - 11\n",
            "2nd derivative:  4*(6*x + 1)\n",
            "3rd derivative:  24\n",
            "4th derivative:  0\n",
            "\n",
            " -x*y*sin(x*y) + cos(x*y)\n"
          ]
        }
      ]
    },
    {
      "cell_type": "markdown",
      "source": [
        "# Mean-Value Theorem"
      ],
      "metadata": {
        "id": "yEiyg_g6pn2A"
      }
    },
    {
      "cell_type": "code",
      "source": [
        "#  f'(c)=[f(b)-f(a)]/(b-a)\n",
        "#  Rolle's Theorem is a special case of the Mean Value Theorem\n",
        "\n",
        "def f(x):\n",
        "    return x*x-10*x+24\n",
        "\n",
        "print((f(6)-f(4))/(6-4))\n",
        "# The rate of change between x = 4 & 6 for this function is zero.\n",
        "\n",
        "first = sym.diff(f(x), x) \n",
        "print('1st derivative: ', first)\n",
        "# According to Rolle's Theorem, f'(x) must equal zero somewhere between a and b.\n",
        "\n",
        "from sympy import solve\n",
        "x = sym.symbols('x')\n",
        "sol = solve(first)\n",
        "print(sol)\n",
        "#  f'(5) = 0\n",
        "#  f(x) has a slope of zero when x = 5.\n",
        "\n"
      ],
      "metadata": {
        "colab": {
          "base_uri": "https://localhost:8080/"
        },
        "id": "3mdzU1tvp2wE",
        "outputId": "1df7a0d4-bb8e-471e-9f9b-5cc35bb8e9fd"
      },
      "execution_count": 61,
      "outputs": [
        {
          "output_type": "stream",
          "name": "stdout",
          "text": [
            "0.0\n",
            "1st derivative:  2*x - 10\n",
            "[5]\n"
          ]
        }
      ]
    },
    {
      "cell_type": "code",
      "source": [
        "import matplotlib.pyplot as plt\n",
        "import numpy as np\n",
        "\n",
        "x = np.array([0,1,2,3,4,5,6,7,8,9,10])\n",
        "\n",
        "# the function, which is y = sin(x) here\n",
        "y = x*x-10*x+24\n",
        "z = -1\n",
        "\n",
        "# plot the function\n",
        "plt.plot(x,y)\n",
        "\n",
        "# show the plot\n",
        "plt.show()"
      ],
      "metadata": {
        "colab": {
          "base_uri": "https://localhost:8080/",
          "height": 267
        },
        "id": "ET7nv5pcxEes",
        "outputId": "12dfc49a-9571-430b-a0a2-0bcb7bc06ea9"
      },
      "execution_count": 74,
      "outputs": [
        {
          "output_type": "display_data",
          "data": {
            "text/plain": [
              "<Figure size 432x288 with 1 Axes>"
            ],
            "image/png": "[encoded data removed]"
          },
          "metadata": {
            "needs_background": "light"
          }
        }
      ]
    }
  ]
}