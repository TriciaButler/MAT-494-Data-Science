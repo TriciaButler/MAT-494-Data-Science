{
  "nbformat": 4,
  "nbformat_minor": 0,
  "metadata": {
    "colab": {
      "provenance": [],
      "authorship_tag": "ABX9TyOLqCLS7IJLDYGb9gAo5mn8",
      "include_colab_link": true
    },
    "kernelspec": {
      "name": "python3",
      "display_name": "Python 3"
    },
    "language_info": {
      "name": "python"
    }
  },
  "cells": [
    {
      "cell_type": "markdown",
      "metadata": {
        "id": "view-in-github",
        "colab_type": "text"
      },
      "source": [
        "<a href=\"https://colab.research.google.com/github/TriciaButler/MAT-494-Data-Science/blob/main/Tricia_B_HW_1_3.ipynb\" target=\"_parent\"><img src=\"https://colab.research.google.com/assets/colab-badge.svg\" alt=\"Open In Colab\"/></a>"
      ]
    },
    {
      "cell_type": "markdown",
      "source": [
        "# Tricia Butler HW 1.3\n",
        "\n",
        "*   QR Decompostion\n",
        "*   Least-Squares"
      ],
      "metadata": {
        "id": "n1vx836qSANV"
      }
    },
    {
      "cell_type": "markdown",
      "source": [
        "# QR Decompostion\n",
        "Matrix A is broken down into the product of A = QR (Gram-Schmidt Method).  \n",
        "Q is an orthogonal matrix.  \n",
        "R is an upper triagular matrix."
      ],
      "metadata": {
        "id": "HWqVQKWuSFpx"
      }
    },
    {
      "cell_type": "code",
      "source": [
        "import numpy as np\n",
        "A = np.array([[12,-51,4],[6,167,-68],[-4,24,-41]])\n",
        "print(\"Vector A\")\n",
        "print(A)\n",
        "v1 = np.array([12,6,-4])\n",
        "v2 = np.array([-51,167,24])\n",
        "v3 = np.array([4,-68,-41])\n",
        "print(\"v1, v2, and v3\")\n",
        "print(v1, v2, v3)\n",
        "print(\"Normalize v1\")\n",
        "print(\"u1 = v1/length of v1\")\n",
        "lengthv1 = np.linalg.norm(v1)\n",
        "u1 = v1/np.linalg.norm(v1)\n",
        "print(\"u1 = \",u1)\n",
        "print(\"Now make v2 orthogonal to u1.\")\n",
        "print(\"u2 = v2 - Proj(v1)v2\")\n",
        "proj_of_v2_on_v1 = (np.dot(v2, v1)/lengthv1**2)*v1\n",
        "U2 = v2 - proj_of_v2_on_v1\n",
        "print(\"u2 = \", U2)\n",
        "print(\"Normalize u2\")\n",
        "lengthU2 = np.linalg.norm(U2)\n",
        "u2 = U2/np.linalg.norm(U2)\n",
        "print(\"u2 = \", u2)\n",
        "print(\"Now make v3 orthogonal to u1 and u2.\")\n",
        "print(\"u3 = v3 - ((v3dotu1)u1 + ((v3dotu2)u2)\")\n",
        "a = (np.dot(v3, u1))\n",
        "b = (np.dot(v3, u2))\n",
        "U3 = v3 - ((np.multiply(a,u1)) + (np.multiply(b,u2)) )\n",
        "print(\"u3 = \", U3)\n",
        "print(\"Normalize u3\")\n",
        "lengthU3 = np.linalg.norm(U3)\n",
        "u3 = U3/np.linalg.norm(U3)\n",
        "print(\"u3 = \", u3)\n",
        "print(\"Vector Q = [u1, u2, u3]\")\n",
        "Q = np.array(([6/7,-69/175,-58/175],[3/7,158/175,6/175],[-2/7,6/35,-33/35]))\n",
        "print(Q)"
      ],
      "metadata": {
        "colab": {
          "base_uri": "https://localhost:8080/"
        },
        "id": "UeDddyGUSyEC",
        "outputId": "3af091a3-8ffa-4498-c368-b05de9f7ea57"
      },
      "execution_count": 18,
      "outputs": [
        {
          "output_type": "stream",
          "name": "stdout",
          "text": [
            "Vector A\n",
            "[[ 12 -51   4]\n",
            " [  6 167 -68]\n",
            " [ -4  24 -41]]\n",
            "v1, v2, and v3\n",
            "[12  6 -4] [-51 167  24] [  4 -68 -41]\n",
            "Normalize v1\n",
            "u1 = v1/length of v1\n",
            "u1 =  [ 0.85714286  0.42857143 -0.28571429]\n",
            "Now make v2 orthogonal to u1.\n",
            "u2 = v2 - Proj(v1)v2\n",
            "u2 =  [-69. 158.  30.]\n",
            "Normalize u2\n",
            "u2 =  [-0.39428571  0.90285714  0.17142857]\n",
            "Now make v3 orthogonal to u1 and u2.\n",
            "u3 = v3 - ((v3dotu1)u1 + ((v3dotu2)u2)\n",
            "u3 =  [-11.6   1.2 -33. ]\n",
            "Normalize u3\n",
            "u3 =  [-0.33142857  0.03428571 -0.94285714]\n",
            "Vector Q = [u1, u2, u3]\n",
            "[[ 0.85714286 -0.39428571 -0.33142857]\n",
            " [ 0.42857143  0.90285714  0.03428571]\n",
            " [-0.28571429  0.17142857 -0.94285714]]\n"
          ]
        }
      ]
    },
    {
      "cell_type": "code",
      "source": [
        "print(\"Matrix Q is an orthogonal matrix, because each vector forms a right angle with the other two vectors (which is difficult to see on this graph).\")\n",
        "import numpy as np\n",
        "import matplotlib.pyplot as plt\n",
        "m = [6/7, 3/7, -2/7]\n",
        "n = [-69/175, 158/175, 6/35]\n",
        "l = [-58/175, 6/175, -33/35]\n",
        "fig = plt.figure()\n",
        "ax = plt.axes(projection='3d')\n",
        "ax.set_xlim([-2,1.5])\n",
        "ax.set_ylim([-1,2])\n",
        "ax.set_zlim([-2,1])\n",
        "start = [0,0,0]\n",
        "ax.quiver(start[0], start[1], start[2], m[0], m[1], m[2])\n",
        "ax.quiver(start[0], start[1], start[2], n[0], n[1], n[2])\n",
        "ax.quiver(start[0], start[1], start[2], l[0], l[1], l[2])\n",
        "plt.show()"
      ],
      "metadata": {
        "colab": {
          "base_uri": "https://localhost:8080/",
          "height": 265
        },
        "id": "6QX2uqT8loKo",
        "outputId": "dd437391-bdec-4808-df8f-e84da3952a6a"
      },
      "execution_count": 47,
      "outputs": [
        {
          "output_type": "stream",
          "name": "stdout",
          "text": [
            "Matrix Q is an orthogonal matrix, because each vector forms a right angle with the other two vectors (which is difficult to see on this graph).\n"
          ]
        },
        {
          "output_type": "display_data",
          "data": {
            "text/plain": [
              "<Figure size 432x288 with 1 Axes>"
            ],
            "image/png": "[encoded data removed]"
          },
          "metadata": {
            "needs_background": "light"
          }
        }
      ]
    },
    {
      "cell_type": "code",
      "source": [
        "print(\"Q(Transposed)A = Q(Transposed)QR = R\")\n",
        "QT = np.transpose(Q)\n",
        "R = QT @ A\n",
        "r = np.rint(R)\n",
        "print(\"Vector R is an upper triangular matrix.\")\n",
        "print(r)\n"
      ],
      "metadata": {
        "colab": {
          "base_uri": "https://localhost:8080/"
        },
        "id": "za9pynGZ9Xj5",
        "outputId": "2103dba0-3dc1-4931-e819-7a82f537295e"
      },
      "execution_count": 29,
      "outputs": [
        {
          "output_type": "stream",
          "name": "stdout",
          "text": [
            "Q(Transposed)A = Q(Transposed)QR = R\n",
            "Vector R is an upper triangular matrix.\n",
            "[[ 14.  21. -14.]\n",
            " [ -0. 175. -70.]\n",
            " [  0.  -0.  35.]]\n"
          ]
        }
      ]
    },
    {
      "cell_type": "markdown",
      "source": [
        "# Least-squares"
      ],
      "metadata": {
        "id": "SMXPSD5FTB_X"
      }
    },
    {
      "cell_type": "markdown",
      "source": [
        "Ax = b, where A is an n x m matrix and n > m.  \n",
        "Rx = Q(Transposed)b.  \n",
        "x = R^-1*Q(Transposed)b.  \n",
        "First find Q and R."
      ],
      "metadata": {
        "id": "j4E1QWnFeoL7"
      }
    },
    {
      "cell_type": "code",
      "source": [
        "import numpy as np\n",
        "def gram_schmidt(A):\n",
        "    \"\"\"Gram-schmidt Orthogonalization\"\"\"\n",
        "    Q=np.zeros_like(A)\n",
        "    cnt = 0\n",
        "    for a in A.T:\n",
        "        u = np.copy(a)\n",
        "        for i in range(0, cnt):\n",
        "            u -= np.dot(np.dot(Q[:, i].T, a), Q[:, i]) \n",
        "        e = u / np.linalg.norm(u)  # normalization \n",
        "        Q[:, cnt] = e\n",
        "        cnt += 1\n",
        "    R = np.dot(Q.T, A)\n",
        "    return (Q, R)\n",
        "\n",
        "np.set_printoptions(precision=4, suppress=True)\n",
        "A = np.array([[1,-1],[1, 0],[1, 1]], dtype = float)\n",
        "\n",
        "(Q, R) = gram_schmidt(A)\n",
        "print(Q)\n",
        "print(R)\n",
        "print(np.dot(Q, R))"
      ],
      "metadata": {
        "colab": {
          "base_uri": "https://localhost:8080/"
        },
        "id": "z7oKD8BpTTJb",
        "outputId": "2380f215-39dd-444f-eedb-28bad61641a2"
      },
      "execution_count": 3,
      "outputs": [
        {
          "output_type": "stream",
          "name": "stdout",
          "text": [
            "[[ 0.5774 -0.7071]\n",
            " [ 0.5774  0.    ]\n",
            " [ 0.5774  0.7071]]\n",
            "[[1.7321 0.    ]\n",
            " [0.     1.4142]]\n",
            "[[ 1. -1.]\n",
            " [ 1.  0.]\n",
            " [ 1.  1.]]\n"
          ]
        }
      ]
    },
    {
      "cell_type": "code",
      "source": [
        "b = np.array([[-4],[4],[6]], dtype = float)\n",
        "print(\"Vector b\")\n",
        "print(b)\n",
        "QT = np.transpose(Q)\n",
        "print(\"Q Transposed\")\n",
        "print(QT)\n",
        "R1 = np.linalg.inv(R)\n",
        "print(\"Inverse of R\")\n",
        "print(R1)\n",
        "print(\"x = R^-1*Q(Transposed)b\")\n",
        "mult1 = np.dot(QT,b)\n",
        "mult2 = np.dot(R1,mult1)\n",
        "print(mult2)"
      ],
      "metadata": {
        "colab": {
          "base_uri": "https://localhost:8080/"
        },
        "id": "FTP4waIai1RQ",
        "outputId": "c9d5c12c-72dc-42d7-a192-feb47e670782"
      },
      "execution_count": 12,
      "outputs": [
        {
          "output_type": "stream",
          "name": "stdout",
          "text": [
            "Vector b\n",
            "[[-4.]\n",
            " [ 4.]\n",
            " [ 6.]]\n",
            "Q Transposed\n",
            "[[ 0.5774  0.5774  0.5774]\n",
            " [-0.7071  0.      0.7071]]\n",
            "Inverse of R\n",
            "[[0.5774 0.    ]\n",
            " [0.     0.7071]]\n",
            "x = R^-1*Q(Transposed)b\n",
            "[[2.]\n",
            " [5.]]\n"
          ]
        }
      ]
    }
  ]
}