{
  "nbformat": 4,
  "nbformat_minor": 0,
  "metadata": {
    "colab": {
      "provenance": [],
      "authorship_tag": "ABX9TyNMBjOB0olPQtwih4JUM3jj",
      "include_colab_link": true
    },
    "kernelspec": {
      "name": "python3",
      "display_name": "Python 3"
    },
    "language_info": {
      "name": "python"
    }
  },
  "cells": [
    {
      "cell_type": "markdown",
      "metadata": {
        "id": "view-in-github",
        "colab_type": "text"
      },
      "source": [
        "<a href=\"https://colab.research.google.com/github/TriciaButler/MAT-494-Data-Science/blob/main/Tricia_B_HW_1_4*.ipynb\" target=\"_parent\"><img src=\"https://colab.research.google.com/assets/colab-badge.svg\" alt=\"Open In Colab\"/></a>"
      ]
    },
    {
      "cell_type": "markdown",
      "source": [
        "# Tricia Butler HW 1.4"
      ],
      "metadata": {
        "id": "3mTzORthcB5P"
      }
    },
    {
      "cell_type": "markdown",
      "source": [
        "# Single Value Decomposition \n",
        "\n",
        "\n",
        "*   SVD factors a matrix into 3 matrices.  A = USV^T\n",
        "*   Matrix U is a matrix of the orthonormal eigenvectors of AA^T.\n",
        "*   Matrix S diagonal matrix of the singular values\n",
        "*   Matrix V^T is a transposed matrix containing the orthonormal eigenvectors of A^TA.\n",
        "\n"
      ],
      "metadata": {
        "id": "PdOfABcedxj8"
      }
    },
    {
      "cell_type": "code",
      "source": [
        "print(\"A = USV^T\")\n",
        "import numpy as np\n",
        "from scipy.linalg import svd\n",
        "print(\"Matrix A\")\n",
        "X = np.array([[3, 3, 2], [2,3,-2]])\n",
        "print(X)\n",
        "print(\"-\"*40)\n",
        "print(\"Perform SVD\")\n",
        "U, singular,V_transpose = svd(X)\n",
        "# print different components\n",
        "print(\"Matrix U\")\n",
        "print(U)\n",
        "print(\"-\"*40)\n",
        "print(\"Singular Array\")\n",
        "print(singular)\n",
        "print(\"-\"*40)\n",
        "print(\"Matrix V^T\")\n",
        "print(V_transpose)"
      ],
      "metadata": {
        "colab": {
          "base_uri": "https://localhost:8080/"
        },
        "id": "FD-23G9id3rG",
        "outputId": "ee226789-17e7-4835-e499-75f251ad949a"
      },
      "execution_count": null,
      "outputs": [
        {
          "output_type": "stream",
          "name": "stdout",
          "text": [
            "A = USV^T\n",
            "Matrix A\n",
            "[[ 3  3  2]\n",
            " [ 2  3 -2]]\n",
            "----------------------------------------\n",
            "Perform SVD\n",
            "Matrix U\n",
            "[[-0.7815437 -0.6238505]\n",
            " [-0.6238505  0.7815437]]\n",
            "----------------------------------------\n",
            "Singular Array\n",
            "[5.54801894 2.86696457]\n",
            "----------------------------------------\n",
            "Matrix V^T\n",
            "[[-0.64749817 -0.7599438  -0.05684667]\n",
            " [-0.10759258  0.16501062 -0.9804057 ]\n",
            " [-0.75443354  0.62869461  0.18860838]]\n"
          ]
        }
      ]
    },
    {
      "cell_type": "markdown",
      "source": [
        "# Low-Rank Matrix Approximations\n",
        "\n",
        "\n",
        "*   SVD Gives the Best Low Rank Approximation\n",
        "\n"
      ],
      "metadata": {
        "id": "mMIjIxytzmxU"
      }
    },
    {
      "cell_type": "code",
      "source": [],
      "metadata": {
        "id": "e-oRbEvJ8tOP"
      },
      "execution_count": null,
      "outputs": []
    }
  ]
}