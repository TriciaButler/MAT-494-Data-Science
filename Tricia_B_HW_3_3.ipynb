{
  "nbformat": 4,
  "nbformat_minor": 0,
  "metadata": {
    "colab": {
      "provenance": [],
      "authorship_tag": "ABX9TyM7QmzrHujXWzQVS98XH0nL",
      "include_colab_link": true
    },
    "kernelspec": {
      "name": "python3",
      "display_name": "Python 3"
    },
    "language_info": {
      "name": "python"
    }
  },
  "cells": [
    {
      "cell_type": "markdown",
      "metadata": {
        "id": "view-in-github",
        "colab_type": "text"
      },
      "source": [
        "<a href=\"https://colab.research.google.com/github/TriciaButler/MAT-494-Data-Science/blob/main/Tricia_B_HW_3_3.ipynb\" target=\"_parent\"><img src=\"https://colab.research.google.com/assets/colab-badge.svg\" alt=\"Open In Colab\"/></a>"
      ]
    },
    {
      "cell_type": "markdown",
      "source": [
        "# Tricia Butler HW 3.3\n",
        "\n",
        "*   Global and Local Minimizers\n",
        "*   Convexity\n",
        "*   Gradient Descent\n",
        "\n",
        "\n",
        "\n"
      ],
      "metadata": {
        "id": "oDM4aRzoBdmX"
      }
    },
    {
      "cell_type": "code",
      "source": [
        "import numpy as np\n",
        "\n",
        "x = np.arange(-5, 5, 0.1)\n",
        "def f(x):\n",
        "    return x**4 - 8*x**2 + 4*x + 2\n",
        "\n",
        "# How to find Global Minumum\n",
        "from scipy import optimize\n",
        "grid = (-5, 5, 0.1)\n",
        "xmin_global = optimize.brute(f, (grid, ))\n",
        "print(\"Global minima found %s\" % xmin_global)\n",
        "\n",
        "# How to find Local Minumum\n",
        "# Find the 1st Derivative \n",
        "import sympy as sym\n",
        "x = sym.symbols('x')\n",
        "first = sym.diff(x**4 - 8*x**2 + 4*x + 2, x) \n",
        "print('1st derivative: ', first)\n",
        "\n",
        "# Find the Roots of the 1st Derivative\n",
        "# Type Coefficients\n",
        "p = [4, 0, -16, 4]\n",
        "roots = np.roots(p)\n",
        "print('Roots of 1st Derivative', roots)\n",
        "\n",
        "# Restrict the domain\n",
        "xmin_local = optimize.fminbound(f, 0, 5)\n",
        "print(\"Local minimum found %s\" % xmin_local)\n"
      ],
      "metadata": {
        "colab": {
          "base_uri": "https://localhost:8080/"
        },
        "id": "bN_deaQVDplG",
        "outputId": "d9198d4d-bb3b-45a6-84ca-9fbbd4c2d692"
      },
      "execution_count": 35,
      "outputs": [
        {
          "output_type": "stream",
          "name": "stdout",
          "text": [
            "Global minima found [-2.11491943]\n",
            "1st derivative:  4*x**3 - 16*x + 4\n",
            "Roots of 1st Derivative [-2.11490754  1.86080585  0.25410169]\n",
            "Local minimum found 1.8608054464313526\n"
          ]
        }
      ]
    },
    {
      "cell_type": "code",
      "source": [
        "import numpy as np\n",
        "\n",
        "x = np.arange(-5, 5, 0.1)\n",
        "def f(x):\n",
        "    return x**4 - 8*x**2 + 4*x + 2\n",
        "\n",
        "import matplotlib.pyplot as plt\n",
        "fig = plt.figure(figsize=(6, 4))\n",
        "ax = fig.add_subplot(111)\n",
        "\n",
        "# Plot the function\n",
        "ax.plot(x, f(x), 'b-', label=\"f(x)\")\n",
        "\n",
        "# How to adjust the y-axis and x-axis\n",
        "plt.ylim([-25, 10])\n",
        "plt.xlim([-5, 5])\n",
        "\n",
        "# Plot the minima\n",
        "xmins = np.array([xmin_global[0], xmin_local])\n",
        "ax.plot(xmins, f(xmins), 'go', label=\"Minima\")\n",
        "\n",
        "# Decorate the figure\n",
        "ax.legend(loc='best')\n",
        "ax.set_xlabel('x')\n",
        "ax.set_ylabel('f(x)')\n",
        "ax.axhline(0, color='gray')"
      ],
      "metadata": {
        "colab": {
          "base_uri": "https://localhost:8080/",
          "height": 300
        },
        "id": "WrRBKZxEVyCg",
        "outputId": "6c56b794-9b21-470d-8ebf-fe71a45ce42e"
      },
      "execution_count": 43,
      "outputs": [
        {
          "output_type": "execute_result",
          "data": {
            "text/plain": [
              "<matplotlib.lines.Line2D at 0x7fca48775450>"
            ]
          },
          "metadata": {},
          "execution_count": 43
        },
        {
          "output_type": "display_data",
          "data": {
            "text/plain": [
              "<Figure size 432x288 with 1 Axes>"
            ],
            "image/png": "[encoded data removed]"
          },
          "metadata": {
            "needs_background": "light"
          }
        }
      ]
    },
    {
      "cell_type": "code",
      "source": [
        "# How to determine Convexity\n",
        "# A twice-differentiable function of is convex iff its 2nd derivative is nonnegative on its entire domain.\n",
        "import numpy as np\n",
        "\n",
        "x = np.arange(-5, 5, 0.1)\n",
        "def f(x):\n",
        "    return x**4 - 8*x**2 + 4*x + 2\n",
        "\n",
        "import sympy as sym\n",
        "x = sym.symbols('x')\n",
        "first = sym.diff(x**4 - 8*x**2 + 4*x + 2, x) \n",
        "print('1st derivative: ', first)\n",
        "\n",
        "second = sym.diff(x**4 - 8*x**2 + 4*x + 2, x, 2) \n",
        "print('2nd derivative: ', second) \n",
        "\n",
        "# Graph the 2nd Derivative\n",
        "import matplotlib.pyplot as plt\n",
        "x = np.arange(-3.5, 3.5, 0.1)\n",
        "y = 4*(3*x**2 - 4)\n",
        "\n",
        "plt.ylim([-20, 10])\n",
        "plt.xlim([-3, 3])\n",
        "\n",
        "plt.plot(x,y)\n",
        "plt.show()\n",
        "print(\"This function is not convex, because of it's negative values.\")"
      ],
      "metadata": {
        "colab": {
          "base_uri": "https://localhost:8080/",
          "height": 321
        },
        "id": "Ht0it7NAXDeI",
        "outputId": "47396732-42f7-4b92-f7b0-467f55475654"
      },
      "execution_count": 77,
      "outputs": [
        {
          "output_type": "stream",
          "name": "stdout",
          "text": [
            "1st derivative:  4*x**3 - 16*x + 4\n",
            "2nd derivative:  4*(3*x**2 - 4)\n"
          ]
        },
        {
          "output_type": "display_data",
          "data": {
            "text/plain": [
              "<Figure size 432x288 with 1 Axes>"
            ],
            "image/png": "[encoded data removed]"
          },
          "metadata": {
            "needs_background": "light"
          }
        },
        {
          "output_type": "stream",
          "name": "stdout",
          "text": [
            "This function is not convex, because of it's negative values.\n"
          ]
        }
      ]
    },
    {
      "cell_type": "code",
      "source": [
        "# How to find the Gradient Descent\n",
        "def grad_1d(x):\n",
        "    return x**4 - 8*x**2 + 4*x + 2\n",
        "\n",
        "def gradient_descent_1d(grad, cur_x=-2.1, learning_rate=0.01, precision=0.01, max_iters=100):\n",
        "    \"\"\"\n",
        "    :param grad:           The gradient of the objective function\n",
        "    :param cur_x:          The current x value, which can be provided with an initial value as an argument\n",
        "    :param learning_rate:  The learning rate is also equivalent to the set step size\n",
        "    :param precision:      Set the convergence precision\n",
        "    :param max_iters:      maximum number of iterations\n",
        "    :return:               local minimum x*\n",
        "    \"\"\"\n",
        "    for i in range(max_iters):\n",
        "        grad_cur = grad(cur_x)\n",
        "        if abs(grad_cur) < precision:\n",
        "            break  # When the gradient approaches 0, it is regarded as convergent\n",
        "        cur_x = cur_x - grad_cur * learning_rate\n",
        "        print(\"The\", i, \"iteration：x value is \", cur_x)\n",
        "    print(\" local minimum  x =\", cur_x)\n",
        "    return cur_x\n",
        "\n",
        "\n",
        "if __name__ == '__main__':\n",
        "    gradient_descent_1d(grad_1d, cur_x=-2.1, learning_rate=0.01, precision=0.01, max_iters=100)\n",
        "\n"
      ],
      "metadata": {
        "colab": {
          "base_uri": "https://localhost:8080/"
        },
        "id": "uB97-hFWX-cw",
        "outputId": "667223a6-d24a-4f10-9a67-811caec2c111"
      },
      "execution_count": 66,
      "outputs": [
        {
          "output_type": "stream",
          "name": "stdout",
          "text": [
            "The 0 iteration：x value is  -1.8776810000000002\n",
            "The 1 iteration：x value is  -1.6648234982963768\n",
            "The 2 iteration：x value is  -1.4733193080715927\n",
            "The 3 iteration：x value is  -1.3078510261573908\n",
            "The 4 iteration：x value is  -1.1679562641175238\n",
            "The 5 iteration：x value is  -1.0507165505657876\n",
            "The 6 iteration：x value is  -0.9525557433262981\n",
            "The 7 iteration：x value is  -0.8700975841121611\n",
            "The 8 iteration：x value is  -0.8004596431871679\n",
            "The 9 iteration：x value is  -0.7412878278383955\n",
            "The 10 iteration：x value is  -0.6906952897336127\n",
            "The 11 iteration：x value is  -0.6471785417597344\n",
            "The 12 iteration：x value is  -0.6095384648959783\n",
            "The 13 iteration：x value is  -0.5768143535505084\n",
            "The 14 iteration：x value is  -0.5482315869026921\n",
            "The 15 iteration：x value is  -0.5231610439458455\n",
            "The 16 iteration：x value is  -0.501087907049913\n",
            "The 17 iteration：x value is  -0.481587720834725\n",
            "The 18 iteration：x value is  -0.4643079734667787\n",
            "The 19 iteration：x value is  -0.44895385852129704\n",
            "The 20 iteration：x value is  -0.4352772014047718\n",
            "The 21 iteration：x value is  -0.42306778855237315\n",
            "The 22 iteration：x value is  -0.41214652986157674\n",
            "The 23 iteration：x value is  -0.40236002807491306\n",
            "The 24 iteration：x value is  -0.3935762349284507\n",
            "The 25 iteration：x value is  -0.385680952394193\n",
            "The 26 iteration：x value is  -0.3785749955564434\n",
            "The 27 iteration：x value is  -0.37217187698908993\n",
            "The 28 iteration：x value is  -0.36639590490889706\n",
            "The 29 iteration：x value is  -0.3611806117572585\n",
            "The 30 iteration：x value is  -0.35646744830935406\n",
            "The 31 iteration：x value is  -0.3522046924542415\n",
            "The 32 iteration：x value is  -0.34834653254886794\n",
            "The 33 iteration：x value is  -0.34485229354248303\n",
            "The 34 iteration：x value is  -0.34168578049937265\n",
            "The 35 iteration：x value is  -0.3388147191647778\n",
            "The 36 iteration：x value is  -0.33621027715494695\n",
            "The 37 iteration：x value is  -0.33384665245758116\n",
            "The 38 iteration：x value is  -0.331700718392055\n",
            "The 39 iteration：x value is  -0.32975171614274296\n",
            "The 40 iteration：x value is  -0.327980987552613\n",
            "The 41 iteration：x value is  -0.3263717421316137\n",
            "The 42 iteration：x value is  -0.324908853259767\n",
            "The 43 iteration：x value is  -0.32357867939827284\n",
            "The 44 iteration：x value is  -0.32236890680227925\n",
            "The 45 iteration：x value is  -0.321268410786758\n",
            "The 46 iteration：x value is  -0.3202671330561373\n",
            "The 47 iteration：x value is  -0.31935597298793167\n",
            "The 48 iteration：x value is  -0.31852669107561793\n",
            "The 49 iteration：x value is  -0.3177718229984329\n",
            "The 50 iteration：x value is  -0.3170846030052079\n",
            "The 51 iteration：x value is  -0.3164588954835289\n",
            "The 52 iteration：x value is  -0.3158891337406362\n",
            "The 53 iteration：x value is  -0.31537026515360506\n",
            "The 54 iteration：x value is  -0.3148977019575633\n",
            "The 55 iteration：x value is  -0.31446727703535454\n",
            "The 56 iteration：x value is  -0.31407520415287427\n",
            "The 57 iteration：x value is  -0.31371804215353655\n",
            "The 58 iteration：x value is  -0.3133926626848232\n",
            "The 59 iteration：x value is  -0.3130962210811464\n",
            "The 60 iteration：x value is  -0.31282613007159327\n",
            "The 61 iteration：x value is  -0.3125800360195638\n",
            "The 62 iteration：x value is  -0.3123557974347419\n",
            "The 63 iteration：x value is  -0.3121514655269879\n",
            "The 64 iteration：x value is  -0.3119652665972229\n",
            "The 65 iteration：x value is  -0.3117955860827108\n",
            "The 66 iteration：x value is  -0.31164095409376913\n",
            "The 67 iteration：x value is  -0.31150003229622353\n",
            "The 68 iteration：x value is  -0.3113716020091782\n",
            "The 69 iteration：x value is  -0.31125455340117053\n",
            "The 70 iteration：x value is  -0.31114787567974267\n",
            " local minimum  x = -0.31114787567974267\n"
          ]
        }
      ]
    }
  ]
}